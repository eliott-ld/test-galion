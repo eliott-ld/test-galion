{
 "cells": [
  {
   "cell_type": "code",
   "execution_count": 16,
   "id": "78c34b9b-35b9-4524-9b53-370f6656db2f",
   "metadata": {
    "scrolled": true
   },
   "outputs": [
    {
     "name": "stdout",
     "output_type": "stream",
     "text": [
      "[{'url': 'https://github.com/login?return_to=%2Flllyasviel%2FOmost', 'stars': 1503}, {'url': 'https://github.com/login?return_to=%2Fonuratakan%2Fgpt-computer-assistant', 'stars': 1058}, {'url': 'https://github.com/sponsors/VinciGit00', 'stars': 254}, {'url': 'https://github.com/login?return_to=%2Fface-hh%2Fwebx', 'stars': 255}, {'url': 'https://github.com/login?return_to=%2FToonCrafter%2FToonCrafter', 'stars': 500}, {'url': 'https://github.com/login?return_to=%2Fisaac-sim%2FIsaacLab', 'stars': 115}, {'url': 'https://github.com/login?return_to=%2Fmicrosoft%2Fgenerative-ai-for-beginners', 'stars': 181}, {'url': 'https://github.com/login?return_to=%2Frasbt%2FLLMs-from-scratch', 'stars': 425}, {'url': 'https://github.com/login?return_to=%2FOpenBMB%2FMiniCPM-V', 'stars': 514}, {'url': 'https://github.com/login?return_to=%2FVikParuchuri%2Fmarker', 'stars': 507}, {'url': 'https://github.com/login?return_to=%2FTheAlgorithms%2FRust', 'stars': 40}, {'url': 'https://github.com/login?return_to=%2Fjackfrued%2FPython-100-Days', 'stars': 113}, {'url': 'https://github.com/login?return_to=%2Fprojectdiscovery%2Fnuclei-templates', 'stars': 10}, {'url': 'https://github.com/login?return_to=%2Flizongying%2Fmy-tv', 'stars': 72}, {'url': 'https://github.com/login?return_to=%2FAnduin2017%2FHowToCook', 'stars': 57}, {'url': 'https://github.com/login?return_to=%2FSAWARATSUKI%2FKawaiiLogos', 'stars': 183}, {'url': 'https://github.com/sponsors/syncthing', 'stars': 227}, {'url': 'https://github.com/login?return_to=%2Fwarpstreamlabs%2Fbento', 'stars': 46}, {'url': 'https://github.com/login?return_to=%2Frenovatebot%2Frenovate', 'stars': 23}, {'url': 'https://github.com/login?return_to=%2Fprojectdiscovery%2Fnuclei', 'stars': 27}, {'url': 'https://github.com/login?return_to=%2Ffirebase%2Ffirebase-ios-sdk', 'stars': 6}, {'url': 'https://github.com/login?return_to=%2FVikParuchuri%2Fsurya', 'stars': 112}, {'url': 'https://github.com/login?return_to=%2Fguoyww%2FAnimateDiff', 'stars': 43}, {'url': 'https://github.com/login?return_to=%2FHeyPuter%2Fputer', 'stars': 58}, {'url': 'https://github.com/sponsors/chatwoot', 'stars': 60}]\n",
      "                                                 url  stars\n",
      "0  https://github.com/login?return_to=%2Flllyasvi...   1503\n",
      "1  https://github.com/login?return_to=%2Fonuratak...   1058\n"
     ]
    }
   ],
   "source": [
    "import requests\n",
    "from bs4 import BeautifulSoup\n",
    "import pandas as pd\n",
    "\n",
    "def fetch_trending_repositories():\n",
    "    url = \"https://github.com/trending\"\n",
    "    response = requests.get(url)\n",
    "    soup = BeautifulSoup(response.content, 'html.parser')\n",
    "    repo_elements = soup.find_all('article', class_='Box-row')\n",
    "    repos = []\n",
    "    for repo in repo_elements:\n",
    "        repo_url_element = repo.find('a')\n",
    "        for elt in repo.findAll('span'):\n",
    "            if \"stars today\" in elt.text:\n",
    "                stars_element = elt\n",
    "                break \n",
    "        if repo_url_element:\n",
    "            repo_url = 'https://github.com' + repo_url_element['href']\n",
    "            stars = int(stars_element.text.strip().removesuffix(\" stars today\").replace(',',''))\n",
    "            repos.append({'url': repo_url, 'stars': stars})\n",
    "        else:\n",
    "            print(f\"Skipping repository due to missing data: {repo_name_element}, {repo_url_element}, {stars_element}\")\n",
    "    return repos\n",
    "\n",
    "def find_potential_startups(repos, star_threshold=1000):\n",
    "    df = pd.DataFrame(repos)\n",
    "    if 'stars' not in df.columns:\n",
    "        print(\"No 'stars' column found in the DataFrame.\")\n",
    "        return pd.DataFrame()  # Return an empty DataFrame\n",
    "    potential_startups = df[df['stars'] > star_threshold]\n",
    "    return potential_startups\n",
    "\n",
    "if __name__ == \"__main__\":\n",
    "    repos = fetch_trending_repositories()\n",
    "    print(repos)\n",
    "    potential_startups = find_potential_startups(repos)\n",
    "    print(potential_startups)\n"
   ]
  },
  {
   "cell_type": "code",
   "execution_count": 8,
   "id": "6656a674-7e2a-4a70-9147-b53e63bc1bd9",
   "metadata": {},
   "outputs": [
    {
     "name": "stdout",
     "output_type": "stream",
     "text": [
      "[]\n",
      "Empty DataFrame\n",
      "Columns: []\n",
      "Index: []\n"
     ]
    }
   ],
   "source": [
    "import requests\n",
    "from bs4 import BeautifulSoup\n",
    "import pandas as pd\n",
    "\n",
    "# GitHub trending URL\n",
    "url = \"https://github.com/trending\"\n",
    "\n",
    "# Send a GET request to the URL\n",
    "response = requests.get(url)\n",
    "soup = BeautifulSoup(response.content, 'html.parser')\n",
    "\n",
    "# Find all repository elements\n",
    "repo_elements = soup.find_all('article', class_='Box-row')\n",
    "\n",
    "# List to hold the repository data\n",
    "repos = []\n",
    "\n",
    "# Extract data from each repository element\n",
    "for repo in repo_elements:\n",
    "    try:\n",
    "        repo_name_element = repo.find('h2', class_='h3 lh-condensed')\n",
    "        if repo_name_element:\n",
    "            repo_name = repo_name_element.text.strip()\n",
    "        else:\n",
    "            continue\n",
    "        \n",
    "        repo_url_element = repo_name_element.find('a')\n",
    "        if repo_url_element:\n",
    "            repo_url = 'https://github.com' + repo_url_element['href']\n",
    "        else:\n",
    "            continue\n",
    "        \n",
    "        stars_element = repo.find('a', class_='Link--muted d-inline-block mr-3')\n",
    "        if stars_element:\n",
    "            stars = stars_element.text.strip()\n",
    "            stars = int(stars.replace(',', ''))\n",
    "        else:\n",
    "            continue\n",
    "        \n",
    "        # Append the data to the list\n",
    "        repos.append({'name': repo_name, 'url': repo_url, 'stars': stars})\n",
    "    \n",
    "    except AttributeError as e:\n",
    "        # Skip this repository if it does not have the expected structure\n",
    "        print(f\"Skipping a repository due to error: {e}\")\n",
    "\n",
    "\n",
    "\n",
    "print(repos)\n",
    "# Convert the list to a DataFrame\n",
    "df = pd.DataFrame(repos)\n",
    "print(df)\n"
   ]
  },
  {
   "cell_type": "code",
   "execution_count": 9,
   "id": "c1e1fbc2-6907-4b98-bf22-0251a6f2114a",
   "metadata": {},
   "outputs": [
    {
     "name": "stdout",
     "output_type": "stream",
     "text": [
      "Empty DataFrame\n",
      "Columns: []\n",
      "Index: []\n"
     ]
    }
   ],
   "source": [
    "import requests\n",
    "from bs4 import BeautifulSoup\n",
    "import pandas as pd\n",
    "\n",
    "def fetch_trending_repositories():\n",
    "    # GitHub trending URL\n",
    "    url = \"https://github.com/trending\"\n",
    "\n",
    "    # Send a GET request to the URL\n",
    "    response = requests.get(url)\n",
    "    soup = BeautifulSoup(response.content, 'html.parser')\n",
    "\n",
    "    # Find all repository elements\n",
    "    repo_elements = soup.find_all('article', class_='Box-row')\n",
    "\n",
    "    # List to hold the repository data\n",
    "    repos = []\n",
    "\n",
    "    # Extract data from each repository element\n",
    "    for repo in repo_elements:\n",
    "        try:\n",
    "            # Repository name\n",
    "            repo_name_element = repo.find('h1', class_='h3 lh-condensed')\n",
    "            if repo_name_element:\n",
    "                repo_name = repo_name_element.text.strip().replace('\\n', '').replace(' ', '')\n",
    "            else:\n",
    "                continue\n",
    "\n",
    "            # Repository URL\n",
    "            repo_url_element = repo_name_element.find('a')\n",
    "            if repo_url_element:\n",
    "                repo_url = 'https://github.com' + repo_url_element['href']\n",
    "            else:\n",
    "                continue\n",
    "\n",
    "            # Stars\n",
    "            stars_element = repo.find('a', class_='Link--muted d-inline-block mr-3')\n",
    "            if stars_element:\n",
    "                stars = stars_element.text.strip()\n",
    "                stars = int(stars.replace(',', ''))\n",
    "            else:\n",
    "                continue\n",
    "\n",
    "            # Append the data to the list\n",
    "            repos.append({'name': repo_name, 'url': repo_url, 'stars': stars})\n",
    "\n",
    "        except AttributeError as e:\n",
    "            # Skip this repository if it does not have the expected structure\n",
    "            print(f\"Skipping a repository due to error: {e}\")\n",
    "\n",
    "    return repos\n",
    "\n",
    "# Fetch the trending repositories\n",
    "repos = fetch_trending_repositories()\n",
    "\n",
    "# Convert the list to a DataFrame\n",
    "df = pd.DataFrame(repos)\n",
    "print(df)\n"
   ]
  },
  {
   "cell_type": "code",
   "execution_count": 10,
   "id": "95ab0a3c-8a4d-4e37-871d-bacf2f763570",
   "metadata": {},
   "outputs": [
    {
     "name": "stdout",
     "output_type": "stream",
     "text": [
      "Successfully fetched the page\n",
      "b'\\n\\n<!DOCTYPE html>\\n<html\\n  lang=\"en\"\\n  \\n  data-color-mode=\"auto\" data-light-theme=\"light\" data-dark-theme=\"dark\"\\n  data-a11y-animated-images=\"system\" data-a11y-link-underlines=\"true\"\\n  >\\n\\n\\n  <head>\\n    <meta charset=\"utf-8\">\\n  <link rel=\"dns-prefetch\" href=\"https://github.githubassets.com\">\\n  <link rel=\"dns-prefetch\" href=\"https://avatars.githubusercontent.com\">\\n  <link rel=\"dns-prefetch\" href=\"https://github-cloud.s3.amazonaws.com\">\\n  <link rel=\"dns-prefetch\" href=\"https://user-images.githubusercontent.com/\">\\n  <link rel=\"preconnect\" href=\"https://github.githubassets.com\" crossorigin>\\n  <link rel=\"preconnect\" href=\"https://avatars.githubusercontent.com\">\\n\\n  \\n\\n  <link crossorigin=\"anonymous\" media=\"all\" rel=\"stylesheet\" href=\"https://github.githubassets.com/assets/light-f552bab6ce72.css\" /><link crossorigin=\"anonymous\" media=\"all\" rel=\"stylesheet\" href=\"https://github.githubassets.com/assets/dark-4589f64a2275.css\" /><link data-color-theme=\"dark_dimmed\" crossorigin=\"anonymous\" media=\"all'\n"
     ]
    }
   ],
   "source": [
    "import requests\n",
    "from bs4 import BeautifulSoup\n",
    "\n",
    "# GitHub trending URL\n",
    "url = \"https://github.com/trending\"\n",
    "\n",
    "# Send a GET request to the URL\n",
    "response = requests.get(url)\n",
    "\n",
    "# Check if the request was successful\n",
    "if response.status_code == 200:\n",
    "    print(\"Successfully fetched the page\")\n",
    "    # Print the HTML content for inspection\n",
    "    print(response.content[:1000])  # Print the first 1000 characters\n",
    "else:\n",
    "    print(f\"Failed to fetch the page, status code: {response.status_code}\")\n"
   ]
  },
  {
   "cell_type": "code",
   "execution_count": null,
   "id": "55c8bac5-aee5-4e6c-8d53-34c3cf03e5e8",
   "metadata": {},
   "outputs": [],
   "source": []
  }
 ],
 "metadata": {
  "kernelspec": {
   "display_name": "Python 3 (ipykernel)",
   "language": "python",
   "name": "python3"
  },
  "language_info": {
   "codemirror_mode": {
    "name": "ipython",
    "version": 3
   },
   "file_extension": ".py",
   "mimetype": "text/x-python",
   "name": "python",
   "nbconvert_exporter": "python",
   "pygments_lexer": "ipython3",
   "version": "3.11.9"
  }
 },
 "nbformat": 4,
 "nbformat_minor": 5
}
